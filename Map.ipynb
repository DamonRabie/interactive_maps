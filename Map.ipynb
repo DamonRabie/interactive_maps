{
 "cells": [
  {
   "cell_type": "code",
   "execution_count": 6,
   "id": "ecaca733-5539-4a0c-a276-c9e9d1818485",
   "metadata": {
    "pycharm": {
     "name": "#%%\n"
    }
   },
   "outputs": [],
   "source": [
    "import pandas as pd\n",
    "from bokeh.plotting import figure, output_file, show\n",
    "from bokeh.tile_providers import OSM, get_provider\n",
    "\n",
    "import geopandas as gpd\n",
    "import numpy as np"
   ]
  },
  {
   "cell_type": "code",
   "execution_count": null,
   "outputs": [],
   "source": [
    "gdf = gpd.read_file('MarketingArea.geojson')\n",
    "\n",
    "# gdf.crs = 'EPSG:4326'\n",
    "# gdf = gdf.to_crs(epsg=3857)\n",
    "\n",
    "# gdf = gdf[['id', 'name', 'name:en', 'geometry']]\n",
    "# gdf['id'] = gdf['id'].apply(lambda x: int(x[9:]))\n",
    "\n",
    "gdf.reset_index(inplace=True)\n",
    "\n",
    "gdf.columns = ['area_id', 'area_name', 'area_geometry']\n",
    "gdf"
   ],
   "metadata": {
    "collapsed": false,
    "pycharm": {
     "name": "#%%\n",
     "is_executing": true
    }
   }
  },
  {
   "cell_type": "code",
   "execution_count": null,
   "outputs": [],
   "source": [
    "vendor_locs = pd.read_csv('vendor_locs.csv')\n",
    "vendor_locs.head()"
   ],
   "metadata": {
    "collapsed": false,
    "pycharm": {
     "name": "#%%\n",
     "is_executing": true
    }
   }
  },
  {
   "cell_type": "code",
   "execution_count": null,
   "outputs": [],
   "source": [
    "## COUNTY\n",
    "gdf = gpd.read_file('Iran-County-Mrz.geojson')\n",
    "\n",
    "gdf = gdf[['name', 'name:en', 'geometry']]\n",
    "gdf.reset_index(inplace=True)\n",
    "\n",
    "gdf.columns = ['county_id', 'county_name_fa', 'county_name_en', 'county_geometry']\n",
    "gdf.head()"
   ],
   "metadata": {
    "collapsed": false,
    "pycharm": {
     "name": "#%%\n",
     "is_executing": true
    }
   }
  },
  {
   "cell_type": "code",
   "execution_count": null,
   "outputs": [],
   "source": [
    "gdf = gpd.read_file('MarketingArea.geojson')\n",
    "\n",
    "gdf.reset_index(inplace=True)\n",
    "\n",
    "gdf.columns = ['area_id', 'area_name', 'area_geometry']\n",
    "gdf.head()"
   ],
   "metadata": {
    "collapsed": false,
    "pycharm": {
     "name": "#%%\n",
     "is_executing": true
    }
   }
  },
  {
   "cell_type": "code",
   "execution_count": null,
   "id": "d1ce2fe4-5c08-4e96-8651-8f48a8b6ad69",
   "metadata": {
    "pycharm": {
     "name": "#%%\n"
    }
   },
   "outputs": [],
   "source": [
    "from shapely import wkt\n",
    "\n",
    "areas = pd.read_excel('MarketingAreas.xlsx')\n",
    "\n",
    "areas = areas.pipe(gpd.GeoDataFrame)\n",
    "areas.columns = ['City', 'AreaID', 'AreaTitle', 'AreaTitle_English', 'SuperArea', 'geometry']\n",
    "\n",
    "areas['geometry'] = areas['geometry'].apply(wkt.loads)\n",
    "gdf = gpd.GeoDataFrame(areas)\n",
    "# gdf = gpd.GeoDataFrame(areas, crs='epsg:4326')\n",
    "gdf.crs = 'EPSG:4326'\n",
    "gdf = gdf.to_crs(epsg=3857)"
   ]
  },
  {
   "cell_type": "code",
   "execution_count": null,
   "outputs": [],
   "source": [
    "from shapely import wkt\n",
    "\n",
    "areas = pd.read_csv('Areas.csv')\n",
    "\n",
    "def tryParseWKT(x):\n",
    "    try:\n",
    "        return wkt.loads(x)\n",
    "    except:\n",
    "        return None\n",
    "\n",
    "areas['geometry'] = areas['new_polygon'].apply(lambda x: tryParseWKT(x))\n",
    "# areas['new_geometry'] = areas['new_geometry'].apply(lambda x: tryParseWKT(x))\n",
    "\n",
    "gdf = gpd.GeoDataFrame(areas[areas['geometry'].notna()], crs='epsg:4326')\n",
    "\n",
    "gdf = gdf.to_crs(epsg=3857)\n",
    "# gdf = gdf.to_crs(epsg=4326)"
   ],
   "metadata": {
    "collapsed": false,
    "pycharm": {
     "name": "#%%\n"
    }
   }
  },
  {
   "cell_type": "code",
   "execution_count": null,
   "id": "b55abb89-1dc5-4fd2-af4b-879d7967dfd4",
   "metadata": {
    "pycharm": {
     "name": "#%%\n"
    }
   },
   "outputs": [],
   "source": [
    "gdf.head()"
   ]
  },
  {
   "cell_type": "code",
   "execution_count": 94,
   "id": "e35e6cb1-9425-43a3-b47d-434b0bad955d",
   "metadata": {
    "pycharm": {
     "name": "#%%\n"
    }
   },
   "outputs": [],
   "source": [
    "from shapely.geometry import Point\n",
    "from shapely.geometry.polygon import Polygon\n",
    "\n",
    "def in_polygon(lat, lng):\n",
    "    point = Point(lng, lat)\n",
    "    for i, row in gdf.iterrows():\n",
    "        polygon = row['area_geometry']\n",
    "        if point.within(polygon):\n",
    "            return row"
   ]
  },
  {
   "cell_type": "code",
   "execution_count": 95,
   "outputs": [],
   "source": [
    "vendor_locs[['area_id', 'area_name', 'area_geometry']] = vendor_locs.apply(lambda x: in_polygon(x.latitude, x.longitude), axis = 1)"
   ],
   "metadata": {
    "collapsed": false,
    "pycharm": {
     "name": "#%%\n"
    }
   }
  },
  {
   "cell_type": "code",
   "execution_count": null,
   "outputs": [],
   "source": [
    "vendor_locs[vendor_locs.county_id.notna()].fillna('no_area', inplace=True)"
   ],
   "metadata": {
    "collapsed": false,
    "pycharm": {
     "name": "#%%\n",
     "is_executing": true
    }
   }
  },
  {
   "cell_type": "code",
   "execution_count": 107,
   "outputs": [],
   "source": [
    "vendor_locs.to_csv('vendor_areas.csv', index=False)"
   ],
   "metadata": {
    "collapsed": false,
    "pycharm": {
     "name": "#%%\n"
    }
   }
  },
  {
   "cell_type": "code",
   "execution_count": null,
   "id": "b57de0d8-8c9e-4319-bd55-e9a1309da54a",
   "metadata": {
    "scrolled": true,
    "tags": [],
    "pycharm": {
     "name": "#%%\n"
    }
   },
   "outputs": [],
   "source": [
    "def to_decimal(S):\n",
    "    S = str(S)\n",
    "    try:\n",
    "        if '°' not in S:\n",
    "            return float(S)\n",
    "        S = S.split('\"')[0]\n",
    "        S = float(S.split('°')[0]) + float(S.split('°')[1].split(\"'\")[0])/60 + float(S.split('°')[1].split(\"'\")[1])/3600\n",
    "        return S\n",
    "    except:\n",
    "        return np.nan\n",
    "\n",
    "df = pd.read_excel(\"RefahLocations_Damoun_211030.xlsx\")\n",
    "\n",
    "df['Lat'] = df['t'].apply(lambda x: to_decimal(x))\n",
    "df['Long'] = df['g'].transform(lambda x: to_decimal(x))"
   ]
  },
  {
   "cell_type": "code",
   "execution_count": null,
   "id": "cd8fbc29-ef50-4afe-9829-bd311b029f8e",
   "metadata": {
    "pycharm": {
     "name": "#%%\n"
    }
   },
   "outputs": [],
   "source": [
    "S = \"59°34'09626\"\n",
    "float(S.split('°')[0]) + float(S.split('°')[1].split(\"'\")[0])/60 + float(S.split('°')[1].split(\"'\")[1])/3600"
   ]
  },
  {
   "cell_type": "code",
   "execution_count": null,
   "id": "c946a12d-0c20-4b65-a6e3-181cbc35fa0f",
   "metadata": {
    "pycharm": {
     "name": "#%%\n"
    }
   },
   "outputs": [],
   "source": [
    "df.head()"
   ]
  },
  {
   "cell_type": "code",
   "execution_count": null,
   "id": "e8939db1-588a-4307-aed4-48b02e1fcada",
   "metadata": {
    "pycharm": {
     "name": "#%%\n"
    }
   },
   "outputs": [],
   "source": [
    "# df = pd.read_excel(\"Chains Locs.xlsx\")\n",
    "# x = df.groupby('Store').apply(lambda x: in_polygon(x.lat, x.lng)).reset_index()\n",
    "df = df.merge(x, on='Store', how='left')\n",
    "\n",
    "df.rename(columns={0:'AreaID'}, inplace=True)\n",
    "\n",
    "df = df.merge(areas, on='AreaID', how='left')"
   ]
  },
  {
   "cell_type": "code",
   "execution_count": null,
   "id": "7c39b029-4e1d-4eeb-8902-e750c446be96",
   "metadata": {
    "pycharm": {
     "name": "#%%\n"
    }
   },
   "outputs": [],
   "source": [
    "df"
   ]
  },
  {
   "cell_type": "code",
   "execution_count": null,
   "id": "e6cbceed-9427-4370-8068-ab0f11067b32",
   "metadata": {
    "pycharm": {
     "name": "#%%\n"
    }
   },
   "outputs": [],
   "source": [
    "df.to_excel('Chains Locs_Area.xlsx', index=False)"
   ]
  },
  {
   "cell_type": "markdown",
   "id": "634879f0-8656-4ffe-a507-e5e8320e000e",
   "metadata": {
    "pycharm": {
     "name": "#%% md\n"
    }
   },
   "source": [
    "## MAPs"
   ]
  },
  {
   "cell_type": "code",
   "execution_count": 12,
   "id": "a8418bc6-6e51-458f-9641-63d1ab0afed4",
   "metadata": {
    "pycharm": {
     "name": "#%%\n"
    }
   },
   "outputs": [],
   "source": [
    "import json\n",
    "from bokeh.models import GeoJSONDataSource\n",
    "\n",
    "def get_geodatasource(df):\n",
    "    \"\"\"Get getjsondatasource from geopandas object\"\"\"\n",
    "    json_data = json.dumps(json.loads(df.to_json()))\n",
    "    return GeoJSONDataSource(geojson = json_data)"
   ]
  },
  {
   "cell_type": "code",
   "execution_count": 13,
   "id": "8e8dd253-1fe6-46e9-be93-4015125b4035",
   "metadata": {
    "pycharm": {
     "name": "#%%\n"
    }
   },
   "outputs": [],
   "source": [
    "def merc_from_arrays(lats, lons):\n",
    "    r_major = 6378137.000\n",
    "    x = r_major * np.radians(lons)\n",
    "    scale = x/lons\n",
    "    y = 180.0/np.pi * np.log(np.tan(np.pi/4.0 + lats * (np.pi/180.0)/2.0)) * scale\n",
    "    return (x, y)"
   ]
  },
  {
   "cell_type": "markdown",
   "id": "10a48b96-76e2-4849-bf42-338b4f4133ba",
   "metadata": {
    "jp-MarkdownHeadingCollapsed": true,
    "tags": [],
    "pycharm": {
     "name": "#%% md\n"
    }
   },
   "source": [
    "### Areas with Ranks"
   ]
  },
  {
   "cell_type": "code",
   "execution_count": null,
   "id": "dce629e6-0b0f-42a7-9c7a-e291bf7b8b69",
   "metadata": {
    "scrolled": true,
    "tags": [],
    "pycharm": {
     "name": "#%%\n"
    }
   },
   "outputs": [],
   "source": [
    "radius = 2750\n",
    "df = pd.read_csv(f'../farm/notebooks/kdtree/coverage_score_{radius}.csv')\n",
    "df"
   ]
  },
  {
   "cell_type": "code",
   "execution_count": null,
   "outputs": [],
   "source": [
    "plot_this = gdf.merge(df, left_on=['CityID', 'AreaID'], right_on=['customer_city_id', 'customer_area_id'], how='inner')\n",
    "plot_this['score'].fillna(0, inplace=True)\n",
    "plot_this"
   ],
   "metadata": {
    "collapsed": false,
    "pycharm": {
     "name": "#%%\n"
    }
   }
  },
  {
   "cell_type": "code",
   "execution_count": null,
   "id": "8d90a666-7a51-47e0-ab7c-497b55791964",
   "metadata": {
    "scrolled": true,
    "tags": [],
    "pycharm": {
     "name": "#%%\n"
    }
   },
   "outputs": [],
   "source": [
    "from bokeh.tile_providers import OSM, get_provider\n",
    "from bokeh.plotting import figure, output_file, show\n",
    "from bokeh.models import ColumnDataSource\n",
    "from bokeh.palettes import Greys256, Turbo256\n",
    "import colorcet as cc\n",
    "from bokeh.models.mappers import LinearColorMapper\n",
    "\n",
    "\n",
    "color_mapper = LinearColorMapper(palette=cc.fire)\n",
    "\n",
    "tile_provider = get_provider(OSM)\n",
    "\n",
    "p = figure(x_range=(4855769, 7080637), y_range=(1644191, 4744721), sizing_mode='scale_both', tools=\"pan,wheel_zoom,crosshair,reset,save\", active_scroll=\"wheel_zoom\",\n",
    "           tooltips=[(\"City\", \"@customer_city\"),\n",
    "                     (\"CityID\", \"@customer_city_id\"),\n",
    "                     (\"AreaTitle\", \"@customer_area\"),\n",
    "                     (\"Score\", \"@score\")])\n",
    "\n",
    "p.add_tile(tile_provider)\n",
    "\n",
    "p.patches('xs','ys', source=get_geodatasource(plot_this),\n",
    "          fill_alpha=0.8, fill_color={'field': 'score', 'transform': color_mapper},\n",
    "          line_color=\"black\", line_width=0.6)\n",
    "\n",
    "# longitude, latitude = merc_from_arrays(np.array(dark_stores.latitude), np.array(dark_stores.longitude))\n",
    "# source = ColumnDataSource(data=dict(longitude=longitude, latitude=latitude, ID=np.array(dark_stores['id']), title=np.array(dark_stores.title)))\n",
    "# p.circle(x='longitude', y='latitude', radius=500, fill_color='Black', fill_alpha=0.5, source=source)\n",
    "\n",
    "# source = ColumnDataSource(data=dict(longitude=longitude, latitude=latitude, ID=np.array(dark_stores['id']), title=np.array(dark_stores.title)))\n",
    "# p.circle(x='longitude', y='latitude', radius=3000, fill_color=None, fill_alpha=0.2, source=source)\n",
    "\n",
    "\n",
    "\n",
    "output_file(f'coverage_{radius}.html')\n",
    "\n",
    "show(p)"
   ]
  },
  {
   "cell_type": "markdown",
   "id": "15f5496d-afea-4f6a-bf13-3298fdb32f7a",
   "metadata": {
    "tags": [],
    "pycharm": {
     "name": "#%% md\n"
    }
   },
   "source": [
    "### Genral Maps"
   ]
  },
  {
   "cell_type": "code",
   "execution_count": null,
   "id": "c571f596-4e5d-47e6-8661-975aaef54866",
   "metadata": {
    "pycharm": {
     "name": "#%%\n"
    }
   },
   "outputs": [],
   "source": [
    "df['colorcode'] = np.where(df['Vendor']=='canbo', '#3366ff', np.nan)\n",
    "df['colorcode'] = np.where(df['Vendor']=='hayat', '#ff9933', df['colorcode'])\n",
    "df['colorcode'] = np.where(df['Vendor']=='refah', '#33cc33', df['colorcode'])\n",
    "df['colorcode'] = np.where(df['Vendor']=='hyper family', '#cc3399', df['colorcode'])\n",
    "df['colorcode'] = np.where(df['Vendor']=='canbo zooket', '#ff0000', df['colorcode'])"
   ]
  },
  {
   "cell_type": "code",
   "execution_count": null,
   "id": "491348da-271d-4668-b58e-03e6fb5dff6e",
   "metadata": {
    "pycharm": {
     "name": "#%%\n"
    }
   },
   "outputs": [],
   "source": [
    "df = pd.read_excel(\"damun.xlsx\")\n",
    "v = pd.read_excel('updateVendors.xlsx')"
   ]
  },
  {
   "cell_type": "code",
   "execution_count": null,
   "outputs": [],
   "source": [
    "gdf.head(2)"
   ],
   "metadata": {
    "collapsed": false,
    "pycharm": {
     "name": "#%%\n",
     "is_executing": true
    }
   }
  },
  {
   "cell_type": "code",
   "execution_count": 25,
   "id": "820df989-5074-415d-b9c9-c089e7c2c958",
   "metadata": {
    "scrolled": true,
    "tags": [],
    "pycharm": {
     "name": "#%%\n"
    }
   },
   "outputs": [],
   "source": [
    "from bokeh.tile_providers import OSM, get_provider\n",
    "from bokeh.plotting import figure, output_file, show\n",
    "from bokeh.models import ColumnDataSource\n",
    "from bokeh.models.mappers import LinearColorMapper\n",
    "# import colorcet as cc\n",
    "\n",
    "# color_mapper = LinearColorMapper(palette=cc.isolum)\n",
    "\n",
    "tile_provider = get_provider(OSM)\n",
    "\n",
    "p = figure(x_range=(4855769, 7080637), y_range=(1644191, 4744721), sizing_mode='scale_both', tools=\"pan,wheel_zoom,crosshair,reset,save\", active_scroll=\"wheel_zoom\",\n",
    "           tooltips=[('Area', \"@name\")])\n",
    "\n",
    "p.add_tile(tile_provider)\n",
    "\n",
    "# for pr, c in zip(clusters['Priority'].unique(), ['#3366ff', '#ff9933', '#33cc33', '#cc3399']):\n",
    "#     df = clusters[clusters['Priority']==pr]\n",
    "\n",
    "#     longitude, latitude = merc_from_arrays(np.array(df['clat'].astype(float)), np.array(df['clong'].astype(float)))\n",
    "\n",
    "#     source = ColumnDataSource(data=dict(longitude=longitude, latitude=latitude, Cluster=np.array(df['Cluster']), \n",
    "#                                         Priority=np.array(df['Priority'])))\n",
    "#     p.scatter(x='longitude', y='latitude', radius=50, fill_alpha=0.9, \n",
    "#               fill_color=c, source=source)\n",
    "\n",
    "#     source = ColumnDataSource(data=dict(longitude=longitude, latitude=latitude, Cluster=np.array(df['Cluster']), \n",
    "#                                         Priority=np.array(df['Priority']), radius=np.array(df['Min Distance'])))\n",
    "#     p.scatter(x='longitude', y='latitude', radius='radius', fill_alpha=0.8,\n",
    "#               fill_color=c, source=source)\n",
    "\n",
    "# for bl, c in zip(vendors['BusinessLine'].unique(), ['#BDC3C7', '#707B7C', '#1C2833']):\n",
    "#     df = vendors[vendors['BusinessLine']==bl]\n",
    "\n",
    "#     longitude, latitude = merc_from_arrays(np.array(df['latitude'].astype(float)), np.array(df['longitude'].astype(float)))\n",
    "\n",
    "#     source = ColumnDataSource(data=dict(longitude=longitude, latitude=latitude, VendorID=np.array(df['Vendor']), \n",
    "#                                         BusinessLine=np.array(df['BusinessLine'])))\n",
    "#     p.scatter(x='longitude', y='latitude', radius=100, fill_alpha=0.9, \n",
    "#               fill_color=c, source=source)\n",
    "\n",
    "# longitude, latitude = merc_from_arrays(np.array(df['latitude'].astype(float)), np.array(df['longitude'].astype(float)))\n",
    "# source = ColumnDataSource(data=dict(longitude=longitude, latitude=latitude,\n",
    "#                                     VendorID=np.array(df['Store']),\n",
    "#                                    AreaTitle=np.array(df['AreaTitle'])))\n",
    "# p.scatter(x='longitude', y='latitude', radius=10, fill_alpha=0.7,\n",
    "#           fill_color='black', source=source)\n",
    "# p.scatter(x='longitude', y='latitude', radius=500, fill_alpha=0.3,\n",
    "#           fill_color='black', source=source)\n",
    "\n",
    "# longitude, latitude = merc_from_arrays(np.array(centorids['clat'].astype(float)), np.array(centorids['clong'].astype(float)))\n",
    "\n",
    "# source = ColumnDataSource(data=dict(longitude=longitude, latitude=latitude, Cluster=np.array(centorids['c'])))\n",
    "# p.scatter(x='longitude', y='latitude', radius=1000, fill_alpha=0.3,\n",
    "#           fill_color='Blue', source=source)\n",
    "\n",
    "\n",
    "\n",
    "########### FOODAREAS\n",
    "p.patches('xs','ys', source=get_geodatasource(gdf),\n",
    "          fill_alpha=0.8, color = 'grey',\n",
    "          line_color=\"black\", line_width=0.2)\n",
    "\n",
    "# output_file('Clusters expansion.html')\n",
    "\n",
    "show(p)"
   ]
  },
  {
   "cell_type": "code",
   "execution_count": null,
   "id": "31ff0124-d192-4ff1-941c-0d7a26c6cf56",
   "metadata": {
    "pycharm": {
     "name": "#%%\n"
    }
   },
   "outputs": [],
   "source": [
    "from bokeh.tile_providers import OSM, get_provider\n",
    "from bokeh.plotting import figure, output_file, show\n",
    "from bokeh.models import ColumnDataSource\n",
    "\n",
    "tile_provider = get_provider(OSM)\n",
    "\n",
    "p = figure(x_range=(4855769, 7080637), y_range=(1644191, 4744721), sizing_mode='scale_both', \n",
    "           tools=\"pan,wheel_zoom,crosshair,reset,save\", active_scroll=\"wheel_zoom\")\n",
    "\n",
    "p.add_tile(tile_provider)\n",
    "\n",
    "p.patches('xs','ys', source=get_geodatasource(gdf),\n",
    "          fill_alpha=0.5, color = 'grey',\n",
    "          line_color=\"black\", line_width=0.2)\n",
    "\n",
    "# output_file('lat_long.html')\n",
    "\n",
    "show(p)"
   ]
  },
  {
   "cell_type": "markdown",
   "id": "40e7f94a-2a2d-4c45-aeac-43161a53c557",
   "metadata": {
    "jp-MarkdownHeadingCollapsed": true,
    "tags": [],
    "pycharm": {
     "name": "#%% md\n"
    }
   },
   "source": [
    "### Food Area Coverage"
   ]
  },
  {
   "cell_type": "code",
   "execution_count": null,
   "id": "85b57f7a-0287-419b-85bd-c7dc75af3d61",
   "metadata": {
    "pycharm": {
     "name": "#%%\n"
    }
   },
   "outputs": [],
   "source": [
    "import pymssql\n",
    "\n",
    "query = \"\"\"select MarketingAreaName, u.latitude, u.longitude, count(o.id), avg(o.sub_total)\n",
    "    from Orders o\n",
    "    join UsersAddresses u on u.id = o.user_address_id\n",
    "    join marketing_db.dbo.Vendors K on K.id = o.vendor_id\n",
    "    where status_id = 123\n",
    "      and K.SuperTypeID=4\n",
    "      and K.CityID = 1\n",
    "      and o.created_at >= '2021-07-19'\n",
    "    group by MarketingAreaName, u.latitude, u.longitude;\"\"\"\n",
    "\n",
    "conn = pymssql.connect(server='warehouse.snappfood.ir:1410', user='zooket', password='?t!ytN9JW39<3[zj', database='marketing_db')\n",
    "orders_cor = pd.read_sql(query, conn)\n",
    "orders_cor.columns = ['SuperArea', 'latitude', 'longitude', 'OrderCount', 'AVB']\n",
    "conn.close()"
   ]
  },
  {
   "cell_type": "code",
   "execution_count": null,
   "id": "3091a595-31f3-4879-b8ad-fc0537f3422e",
   "metadata": {
    "pycharm": {
     "name": "#%%\n"
    }
   },
   "outputs": [],
   "source": [
    "from haversine import haversine\n",
    "\n",
    "radius = 3.5\n",
    "orders_cor['dist'] = orders_cor.apply(lambda x: haversine((x.latitude, x.longitude), (35.764198303222656,51.42612838745117)), axis=1)"
   ]
  },
  {
   "cell_type": "code",
   "execution_count": null,
   "id": "962be9c7-b6e9-46c0-a546-2bf1c8dcae38",
   "metadata": {
    "pycharm": {
     "name": "#%%\n"
    }
   },
   "outputs": [],
   "source": [
    "avb = orders_cor[orders_cor['dist']<radius+0.05]['AVB'].mean()\n",
    "dist = (orders_cor[orders_cor['dist']<radius+0.05]['OrderCount'].sum()*100) / orders_cor['OrderCount'].sum()"
   ]
  },
  {
   "cell_type": "code",
   "execution_count": null,
   "id": "4e92aba4-79c4-449e-b94a-220e69aeac5f",
   "metadata": {
    "pycharm": {
     "name": "#%%\n"
    }
   },
   "outputs": [],
   "source": [
    "avb, dist"
   ]
  },
  {
   "cell_type": "code",
   "execution_count": null,
   "id": "bc3b613e-2c61-495a-8516-5d646755179e",
   "metadata": {
    "pycharm": {
     "name": "#%%\n"
    }
   },
   "outputs": [],
   "source": [
    "orders_cor = orders_cor.reset_index()"
   ]
  },
  {
   "cell_type": "code",
   "execution_count": null,
   "id": "164bf6c0-d7a1-4726-af26-3df714b003a8",
   "metadata": {
    "pycharm": {
     "name": "#%%\n"
    }
   },
   "outputs": [],
   "source": [
    "x = orders_cor.groupby('index').apply(lambda x: in_polygon(x.latitude, x.longitude)).reset_index()"
   ]
  },
  {
   "cell_type": "code",
   "execution_count": null,
   "id": "65657762-dfc2-427c-8122-0ca56f91c79d",
   "metadata": {
    "pycharm": {
     "name": "#%%\n"
    }
   },
   "outputs": [],
   "source": [
    "x.columns = ['index', 'ID']\n",
    "\n",
    "recent_orders = recent_orders.merge(x, on='index', how='left')\n",
    "recent_orders = recent_orders.merge(areas, on='ID', how='left')"
   ]
  },
  {
   "cell_type": "code",
   "execution_count": null,
   "id": "eef46d20-0ca9-4559-8d9d-e7ca0044fb5e",
   "metadata": {
    "pycharm": {
     "name": "#%%\n"
    }
   },
   "outputs": [],
   "source": [
    "teh = recent_orders[recent_orders['ID'].notna()].groupby(['City', 'Title_English']).agg({'OrderCount':'sum'}).reset_index()\n",
    "teh = teh.merge(recent_orders[['City', 'Title_English', 'geometry']].drop_duplicates(), how='left', on=['City', 'Title_English'])\n",
    "teh['OrderPerc'] = teh['OrderCount']*100/sum(teh['OrderCount'])"
   ]
  },
  {
   "cell_type": "code",
   "execution_count": null,
   "id": "54d674c6-e676-4447-878b-d3c93062afbd",
   "metadata": {
    "scrolled": true,
    "tags": [],
    "pycharm": {
     "name": "#%%\n"
    }
   },
   "outputs": [],
   "source": [
    "gdf = gpd.GeoDataFrame(teh, crs='epsg:4326')\n",
    "\n",
    "gdf = gdf.to_crs(epsg=3857)"
   ]
  },
  {
   "cell_type": "code",
   "execution_count": null,
   "id": "870127e7-8d80-4813-9696-d4cacc4ba6e0",
   "metadata": {
    "pycharm": {
     "name": "#%%\n"
    }
   },
   "outputs": [],
   "source": [
    "gdf.head()"
   ]
  },
  {
   "cell_type": "code",
   "execution_count": null,
   "id": "a9943465-91a9-4084-9fef-731dad1b88f0",
   "metadata": {
    "pycharm": {
     "name": "#%%\n"
    }
   },
   "outputs": [],
   "source": [
    "from bokeh.tile_providers import OSM, get_provider\n",
    "from bokeh.plotting import figure, output_file, show\n",
    "from bokeh.models import ColumnDataSource\n",
    "\n",
    "tile_provider = get_provider(OSM)\n",
    "\n",
    "p = figure(x_range=(4855769, 7080637), y_range=(1644191, 4744721), sizing_mode='scale_both', tools=\"pan,wheel_zoom,crosshair,reset,save\", active_scroll=\"wheel_zoom\",\n",
    "           tooltips=[(\"OrderPerc\", \"@OrderPerc\"),\n",
    "                    (\"OrderCount\", \"@OrderCount\"),\n",
    "                    (\"SnappFoodArea\", \"@Title_English\"),])\n",
    "p.add_tile(tile_provider)\n",
    "\n",
    "p.patches('xs','ys', source=get_geodatasource(gdf),\n",
    "          fill_alpha=0.3, color = 'grey',\n",
    "          line_color=\"black\", line_width=0.6)\n",
    "\n",
    "output_file('FoodArea_Coverage.html')\n",
    "\n",
    "show(p)"
   ]
  },
  {
   "cell_type": "markdown",
   "id": "1623a8e5-ff83-4636-ae2e-7cfe0d5c90c6",
   "metadata": {
    "jp-MarkdownHeadingCollapsed": true,
    "tags": [],
    "pycharm": {
     "name": "#%% md\n"
    }
   },
   "source": [
    "### Query"
   ]
  },
  {
   "cell_type": "code",
   "execution_count": null,
   "id": "8616b7d5-d62b-4238-a3bc-743e6078d527",
   "metadata": {
    "pycharm": {
     "name": "#%%\n"
    }
   },
   "outputs": [],
   "source": [
    "import pymssql\n",
    "\n",
    "conn = pymssql.connect(server='87.247.185.67:1433', user='CoreTeam', password='clwkehr2o8349h', database='ZooketDW')\n",
    "q = \"\"\"select V.id as 'Store', V.title, V.latitude as 'Lat', V.longitude as 'Long', V.status\n",
    "        from Vendors V\n",
    "            join VendorTypes VT on vendor_type_id = VT.id\n",
    "        where vendor_super_type_id = 4\n",
    "          and V.status <> 'Suspend';\"\"\"\n",
    "\n",
    "vendors = pd.read_sql(q, conn)\n",
    "conn.close()"
   ]
  },
  {
   "cell_type": "code",
   "execution_count": null,
   "id": "0fd00332-36db-4b40-9759-6ea1eb624a67",
   "metadata": {
    "pycharm": {
     "name": "#%%\n"
    }
   },
   "outputs": [],
   "source": [
    "df = df.merge(vendors, on='Store', how='left')"
   ]
  },
  {
   "cell_type": "code",
   "execution_count": null,
   "id": "4173b725-ca45-46ed-a9b5-3164fbe953ba",
   "metadata": {
    "pycharm": {
     "name": "#%%\n"
    }
   },
   "outputs": [],
   "source": [
    "df.tail()"
   ]
  },
  {
   "cell_type": "code",
   "execution_count": null,
   "id": "add433bd-711e-46ba-a6d1-d63d277611f7",
   "metadata": {
    "pycharm": {
     "name": "#%%\n"
    }
   },
   "outputs": [],
   "source": [
    "from bokeh.tile_providers import OSM, get_provider\n",
    "from bokeh.plotting import figure, output_file, show\n",
    "from bokeh.models import ColumnDataSource\n",
    "from bokeh.palettes import Spectral5\n",
    "\n",
    "tile_provider = get_provider(OSM)\n",
    "\n",
    "p = figure(x_range=(4855769, 7080637), y_range=(1644191, 4744721), sizing_mode='scale_both', tools=\"pan,wheel_zoom,crosshair,reset,save\", active_scroll=\"wheel_zoom\",\n",
    "           tooltips=[(\"VendorID\", \"@VendorID\"),\n",
    "                   (\"Title\", \"@title\"),\n",
    "                    (\"Status\", \"@status\")])\n",
    "p.add_tile(tile_provider)\n",
    "\n",
    "for this_status, name, color in zip(df.status.unique(), df.status.unique(), Spectral5):\n",
    "    this_df = df[df.status==this_status]\n",
    "    longitude, latitude = merc_from_arrays(np.array(this_df.Lat), np.array(this_df.Long))\n",
    "    source = ColumnDataSource(data=dict(longitude=longitude, latitude=latitude, \n",
    "                                        status=np.array(this_df.status), \n",
    "                                        VendorID=np.array(this_df.Store),\n",
    "                                        title=np.array(this_df.title)))\n",
    "    p.circle(x='longitude', y='latitude', radius=500, fill_alpha=1, source=source, color=color, legend_label=name)\n",
    "\n",
    "    \n",
    "p.legend.location = \"top_right\"\n",
    "p.legend.click_policy=\"hide\"\n",
    "\n",
    "# longitude, latitude = merc_from_arrays(np.array(df.Lat), np.array(df.Long))\n",
    "# source = ColumnDataSource(data=dict(longitude=longitude, latitude=latitude, StoreID=np.array(df.Store), Comp=np.repeat('Refah', len(latitude))))\n",
    "# p.scatter(x='longitude', y='latitude', radius=100, fill_color='#83206B', fill_alpha=1, source=source)\n",
    "# p.scatter(x='longitude', y='latitude', radius=2700, fill_color='#83206B', fill_alpha=0.3, source=source)\n",
    "\n",
    "# p.patches('xs','ys', source=get_geodatasource(gdf),\n",
    "#           fill_alpha=0.3, color = 'grey',\n",
    "#           line_color=\"black\", line_width=0.6)\n",
    "\n",
    "output_file('Nazanin.html')\n",
    "\n",
    "show(p)"
   ]
  },
  {
   "cell_type": "code",
   "execution_count": null,
   "id": "edba9083-ad9c-40d0-9fb1-0cea34ce5978",
   "metadata": {
    "pycharm": {
     "name": "#%%\n"
    }
   },
   "outputs": [],
   "source": [
    "########## GANDOM CANBO ZOOKET\n",
    "\n",
    "from bokeh.tile_providers import OSM, get_provider\n",
    "from bokeh.plotting import figure, output_file, show\n",
    "from bokeh.models import ColumnDataSource\n",
    "\n",
    "tile_provider = get_provider(OSM)\n",
    "\n",
    "p = figure(x_range=(4855769, 7080637), y_range=(1644191, 4744721), sizing_mode='scale_both', tools=\"pan,wheel_zoom,crosshair,reset,save\", active_scroll=\"wheel_zoom\",\n",
    "           tooltips=[(\"Company\", \"@Comp\"),\n",
    "                    (\"StoreID\", \"@StoreID\"),\n",
    "                    (\"SnappFoodArea\", \"@AreaTitle_English\"),])\n",
    "p.add_tile(tile_provider)\n",
    "\n",
    "longitude, latitude = merc_from_arrays(np.array(Vendors.lat), np.array(Vendors.lng))\n",
    "source = ColumnDataSource(data=dict(longitude=longitude, latitude=latitude, StoreID=np.array(Vendors.Store), Comp=np.repeat('Zooket', len(latitude))))\n",
    "p.circle(x='longitude', y='latitude', radius=100, fill_color='#F1E864', fill_alpha=0.9, source=source)\n",
    "\n",
    "longitude, latitude = merc_from_arrays(np.array(canbo.lat), np.array(canbo.lng))\n",
    "source = ColumnDataSource(data=dict(longitude=longitude, latitude=latitude, StoreID=np.array(canbo.Store), Comp=np.repeat('Canbo', len(latitude))))\n",
    "p.scatter(x='longitude', y='latitude', radius=100, fill_color='#83206B', fill_alpha=0.9, source=source)\n",
    "\n",
    "longitude, latitude = merc_from_arrays(np.array(gandom.lat), np.array(gandom.lng))\n",
    "source = ColumnDataSource(data=dict(longitude=longitude, latitude=latitude, StoreID=np.array(gandom.StoreID), Comp=np.repeat('Gandom', len(latitude))))\n",
    "p.scatter(x='longitude', y='latitude', radius=100, fill_color='#32CD32', fill_alpha=0.9, source=source)\n",
    "\n",
    "p.patches('xs','ys', source=get_geodatasource(gdf),\n",
    "          fill_alpha=0.3, fill_color = '#d3d3d3',\n",
    "          line_color=\"black\", line_width=1)\n",
    "\n",
    "output_file('Zooket_Canbo_Gandom_Areas.html')\n",
    "\n",
    "show(p)"
   ]
  },
  {
   "cell_type": "markdown",
   "id": "8b7e05ca-d694-4ed2-af8f-75a6a241cd16",
   "metadata": {
    "jp-MarkdownHeadingCollapsed": true,
    "tags": [],
    "pycharm": {
     "name": "#%% md\n"
    }
   },
   "source": [
    "### Vendor Status"
   ]
  },
  {
   "cell_type": "code",
   "execution_count": null,
   "id": "46efcac0-f78f-457d-8f67-e96f5b23d5e1",
   "metadata": {
    "pycharm": {
     "name": "#%%\n"
    }
   },
   "outputs": [],
   "source": [
    "import mysql.connector\n",
    "import pandas as pd\n",
    "import numpy as np\n",
    "\n",
    "query = \"\"\"select Vendors.id, Vendors.title, Vendors.status, Cities.title as `city`,Vendors.latitude,Vendors.longitude\n",
    "            from zoodfood_db.Vendors\n",
    "                     join zoodfood_db.VendorTypes on Vendors.vendor_type_id = VendorTypes.id\n",
    "                     JOIN zoodfood_db.Cities on Vendors.city_id = Cities.id\n",
    "            where vendor_super_type_id = 4\n",
    "              and Vendors.status in ('ACTIVE');\"\"\"\n",
    "\n",
    "cnx = mysql.connector.connect(user='mohammad_hossein', password='clwkehr2o8349h', host='db.snappfood.ir', port='3306')\n",
    "Vendors = pd.read_sql(query, cnx)\n",
    "cnx.close()"
   ]
  },
  {
   "cell_type": "code",
   "execution_count": null,
   "id": "64bd9e45-b37e-4982-9056-5c38f00f0e01",
   "metadata": {
    "tags": [],
    "pycharm": {
     "name": "#%%\n"
    }
   },
   "outputs": [],
   "source": [
    "Vendors.head()"
   ]
  },
  {
   "cell_type": "code",
   "execution_count": null,
   "id": "458683d8-a91c-438f-8fcd-03015dab825e",
   "metadata": {
    "pycharm": {
     "name": "#%%\n"
    }
   },
   "outputs": [],
   "source": [
    "from bokeh.tile_providers import OSM, get_provider\n",
    "from bokeh.plotting import figure, output_file, show\n",
    "from bokeh.models import ColumnDataSource\n",
    "from bokeh.palettes import inferno\n",
    "\n",
    "tile_provider = get_provider(OSM)\n",
    "\n",
    "p = figure(x_range=(4855769, 7080637), y_range=(1644191, 4744721), sizing_mode='scale_both', tools=\"pan,wheel_zoom,crosshair,reset,save\", active_scroll=\"wheel_zoom\",\n",
    "           tooltips=[(\"VendorID\", \"@id\"),\n",
    "                    (\"VendorTitle\", \"@title\"),\n",
    "                    (\"City\", \"@city\"),\n",
    "                    (\"Status\", \"@status\"),])\n",
    "p.add_tile(tile_provider)\n",
    "Vendors= data.copy()\n",
    "\n",
    "Vendors.longitude, Vendors.latitude = merc_from_arrays(np.array(Vendors.latitude), np.array(Vendors.longitude))\n",
    "colormap = {}\n",
    "for v, color in zip(Vendors.status.unique(), inferno(Vendors.status.nunique())):\n",
    "    colormap[v] = color\n",
    "\n",
    "colormap['ACTIVE'] = 'Green'\n",
    "Vendors['colors'] = [colormap[x] for x in Vendors['status']]\n",
    "source = ColumnDataSource(Vendors)\n",
    "\n",
    "p.circle(x='longitude', y='latitude', color='colors', fill_alpha=0.7, radius=200, legend_field='status', source=source)\n",
    "p.legend.location = \"top_left\"\n",
    "\n",
    "output_file('Zooket_Vendor_Status.html')\n",
    "\n",
    "# show(p)"
   ]
  },
  {
   "cell_type": "code",
   "execution_count": null,
   "id": "19e4ecbb-90e2-4b2c-9b10-90e060140c1f",
   "metadata": {
    "pycharm": {
     "name": "#%%\n"
    }
   },
   "outputs": [],
   "source": [
    "from bokeh.tile_providers import OSM, get_provider\n",
    "from bokeh.plotting import figure, output_file, show\n",
    "from bokeh.models import ColumnDataSource\n",
    "\n",
    "tile_provider = get_provider(OSM)\n",
    "\n",
    "p = figure(x_range=(4855769, 7080637), y_range=(1644191, 4744721), sizing_mode='scale_both', tools=\"pan,wheel_zoom,crosshair,reset,save\", active_scroll=\"wheel_zoom\")\n",
    "p.add_tile(tile_provider)\n",
    "Vendors= data.copy()\n",
    "\n",
    "Vendors.longitude, Vendors.latitude = merc_from_arrays(np.array(Vendors.latitude), np.array(Vendors.longitude))\n",
    "circles = {}\n",
    "for v, color in zip(Vendors.status.unique(), inferno(Vendors.status.nunique())):\n",
    "    tmp = Vendors[Vendors.status==v]\n",
    "    if v == 'ACTIVE':\n",
    "        color = 'Green'\n",
    "    \n",
    "    source = ColumnDataSource(tmp)\n",
    "    circles[v] = p.circle(x=tmp['longitude'], y=tmp['latitude'], color=color, fill_alpha=0.7, radius=200, legend_label=v)\n",
    "    circles[v].visible = False\n",
    "    \n",
    "p.legend.location = \"top_left\"\n",
    "p.legend.click_policy=\"hide\"\n",
    "\n",
    "\n",
    "# output_file('Zooket_Vendor_Status.html')\n",
    "\n",
    "show(p)"
   ]
  },
  {
   "cell_type": "markdown",
   "id": "61972e08-6873-4b63-8a7c-64471b36a816",
   "metadata": {
    "jp-MarkdownHeadingCollapsed": true,
    "tags": [],
    "pycharm": {
     "name": "#%% md\n"
    }
   },
   "source": [
    "### Areas"
   ]
  },
  {
   "cell_type": "code",
   "execution_count": null,
   "id": "9a2eaeb0-0385-4c49-bf33-a38085956ce6",
   "metadata": {
    "pycharm": {
     "name": "#%%\n"
    }
   },
   "outputs": [],
   "source": [
    "import mysql.connector\n",
    "import pandas as pd\n",
    "import numpy as np\n",
    "\n",
    "query = \"\"\"select Distinct Cities.id as 'City', Cities.title as `CityTitle`\n",
    "            from zoodfood_db.Cities\n",
    "            where id in {};\"\"\".format(tuple(areas.City.unique()))\n",
    "\n",
    "cnx = mysql.connector.connect(user='mohammad_hossein', password='clwkehr2o8349h', host='db.snappfood.ir', port='3306')\n",
    "cities = pd.read_sql(query, cnx)\n",
    "cnx.close()"
   ]
  },
  {
   "cell_type": "code",
   "execution_count": null,
   "id": "6224af1b-3c41-4e29-9233-870418db38a7",
   "metadata": {
    "pycharm": {
     "name": "#%%\n"
    }
   },
   "outputs": [],
   "source": [
    "gdf = gdf.merge(cities, on='City', how='left')"
   ]
  },
  {
   "cell_type": "code",
   "execution_count": null,
   "id": "a508cbee-5237-40d9-bf48-08e70c633df3",
   "metadata": {
    "pycharm": {
     "name": "#%%\n"
    }
   },
   "outputs": [],
   "source": [
    "gdf.head()"
   ]
  },
  {
   "cell_type": "code",
   "execution_count": null,
   "id": "a22533eb-c08a-4ead-8c67-ebcd035cf77a",
   "metadata": {
    "pycharm": {
     "name": "#%%\n"
    }
   },
   "outputs": [],
   "source": [
    "from bokeh.tile_providers import OSM, get_provider\n",
    "from bokeh.plotting import figure, output_file, show\n",
    "from bokeh.models import ColumnDataSource\n",
    "\n",
    "tile_provider = get_provider(OSM)\n",
    "\n",
    "p = figure(x_range=(4855769, 7080637), y_range=(1644191, 4744721), sizing_mode='scale_both', tools=\"pan,wheel_zoom,crosshair,reset,save\", active_scroll=\"wheel_zoom\",\n",
    "           tooltips=[(\"City\", \"@CityTitle\"),\n",
    "                    (\"CityID\", \"@City\"),\n",
    "                   (\"SuperArea\", \"@SuperArea\"),\n",
    "                    (\"AreaTitle_English\", \"@AreaTitle_English\"),\n",
    "                    (\"AreaTitle\", \"@AreaTitle\"),\n",
    "                    (\"AreaID\", \"@AreaID\"),])\n",
    "p.add_tile(tile_provider)\n",
    "\n",
    "p.patches('xs','ys', source=get_geodatasource(gdf),\n",
    "          fill_alpha=0.5, color = 'grey',\n",
    "          line_color=\"black\", line_width=0.3)\n",
    "\n",
    "# output_file('Iran_Areas.html')\n",
    "\n",
    "show(p)"
   ]
  },
  {
   "cell_type": "markdown",
   "id": "c9c5fb21-db31-49f7-8f4f-4174943b836c",
   "metadata": {
    "jp-MarkdownHeadingCollapsed": true,
    "tags": [],
    "pycharm": {
     "name": "#%% md\n"
    }
   },
   "source": [
    "### Canbo Tehran hyperstar"
   ]
  },
  {
   "cell_type": "code",
   "execution_count": null,
   "id": "d6f0ae9d-11a6-46bc-b47d-560c7d636b97",
   "metadata": {
    "pycharm": {
     "name": "#%%\n"
    }
   },
   "outputs": [],
   "source": [
    "import mysql.connector\n",
    "\n",
    "query = \"\"\"select V.id as 'StoreID', V.title, V.latitude, V.longitude\n",
    "        from zoodfood_db.Vendors V\n",
    "            join zoodfood_db.VendorTypes VT on vendor_type_id = VT.id\n",
    "        where vendor_super_type_id = 4\n",
    "--             and V.title Like '%هایپراستار%'\n",
    "             and V.title Like '%جانبو%'\n",
    "--             and V.title Like N'%اکسپرس مارکت%'\n",
    "            and V.status <> 'SUSPEND';\"\"\"\n",
    "\n",
    "cnx = mysql.connector.connect(user='mohammad_hossein', password='clwkehr2o8349h', host='db.snappfood.ir', port='3306')\n",
    "hyperstar = pd.read_sql(query, cnx)\n",
    "cnx.close()"
   ]
  },
  {
   "cell_type": "code",
   "execution_count": null,
   "id": "b62f2a97-59aa-48f8-9153-179bbf327b61",
   "metadata": {
    "pycharm": {
     "name": "#%%\n"
    }
   },
   "outputs": [],
   "source": [
    "hyperstar.head()"
   ]
  },
  {
   "cell_type": "code",
   "execution_count": null,
   "id": "9db2457a-09b9-4815-afdd-b9f46fb7f3bd",
   "metadata": {
    "pycharm": {
     "name": "#%%\n"
    }
   },
   "outputs": [],
   "source": [
    "canbo.shape"
   ]
  },
  {
   "cell_type": "code",
   "execution_count": null,
   "id": "d4d54a3d-39b5-48ba-b028-7520f7f74d5a",
   "metadata": {
    "pycharm": {
     "name": "#%%\n"
    }
   },
   "outputs": [],
   "source": [
    "hyperfamily = pd.read_excel('canbo_hyperstar/Hyperfamili lat.long (1).xlsx')"
   ]
  },
  {
   "cell_type": "code",
   "execution_count": null,
   "id": "0dd481bc-d238-470d-a1b3-dd1766b0980a",
   "metadata": {
    "pycharm": {
     "name": "#%%\n"
    }
   },
   "outputs": [],
   "source": [
    "hyperfamily[['latitude', 'longitude']] = hyperfamily['latitude'].str.split(',', expand=True)"
   ]
  },
  {
   "cell_type": "code",
   "execution_count": null,
   "id": "063c0575-8c71-4fb8-9e15-c99453b04607",
   "metadata": {
    "tags": [],
    "pycharm": {
     "name": "#%%\n"
    }
   },
   "outputs": [],
   "source": [
    "hyperfamily.head()"
   ]
  },
  {
   "cell_type": "code",
   "execution_count": null,
   "id": "f94b25c8-b5dd-4277-a1af-e86106a2880d",
   "metadata": {
    "pycharm": {
     "name": "#%%\n"
    }
   },
   "outputs": [],
   "source": []
  },
  {
   "cell_type": "code",
   "execution_count": null,
   "id": "d9f91fd5-5a37-435c-b427-984cb9e40ebf",
   "metadata": {
    "pycharm": {
     "name": "#%%\n"
    }
   },
   "outputs": [],
   "source": [
    "from bokeh.tile_providers import OSM, get_provider\n",
    "from bokeh.plotting import figure, output_file, show\n",
    "from bokeh.models import ColumnDataSource\n",
    "\n",
    "tile_provider = get_provider(OSM)\n",
    "\n",
    "p = figure(x_range=(4855769, 7080637), y_range=(1644191, 4744721), sizing_mode='scale_both', tools=\"pan,wheel_zoom,crosshair,reset,save\", active_scroll=\"wheel_zoom\",\n",
    "           tooltips=[(\"FoodArea\", \"@AreaTitle\"),\n",
    "                    (\"StoreID\", \"@StoreID\"),\n",
    "                    (\"Company\", \"@Comp\"),])\n",
    "p.add_tile(tile_provider)\n",
    "\n",
    "# ########### ZOOKET\n",
    "# longitude, latitude = merc_from_arrays(np.array(Vendors.latitude), np.array(Vendors.longitude))\n",
    "\n",
    "# source = ColumnDataSource(data=dict(longitude=longitude, latitude=latitude, StoreID=np.array(Vendors['id']), Comp=np.repeat('Zooket', len(latitude))))\n",
    "# p.scatter(x='longitude', y='latitude', radius=100, fill_color='#FFFF00', fill_alpha=0.9, source=source)\n",
    "\n",
    "########### HyperStar\n",
    "longitude, latitude = merc_from_arrays(np.array(hyperstar.latitude.astype(float)), np.array(hyperstar.longitude.astype(float)))\n",
    "\n",
    "source = ColumnDataSource(data=dict(longitude=longitude, latitude=latitude, StoreID=np.array(hyperstar['StoreID']), Comp=np.repeat('HyperStar', len(latitude))))\n",
    "p.scatter(x='longitude', y='latitude', radius=100, fill_color='#0000FF', fill_alpha=0.9, source=source)\n",
    "\n",
    "source = ColumnDataSource(data=dict(longitude=longitude, latitude=latitude, StoreID=np.array(hyperstar['StoreID']), Comp=np.repeat('HyperStar', len(latitude))))\n",
    "p.scatter(x='longitude', y='latitude', radius=3500, fill_color='#0000FF', fill_alpha=0.6, source=source)\n",
    "\n",
    "########### CANBO\n",
    "longitude, latitude = merc_from_arrays(np.array(canbo.latitude), np.array(canbo.longitude))\n",
    "\n",
    "source = ColumnDataSource(data=dict(longitude=longitude, latitude=latitude, StoreID=np.array(canbo.StoreID), Comp=np.repeat('Canbo', len(latitude))))\n",
    "p.scatter(x='longitude', y='latitude', radius=100, fill_color='#83206B', fill_alpha=0.9, source=source)\n",
    "\n",
    "source = ColumnDataSource(data=dict(longitude=longitude, latitude=latitude, StoreID=np.array(canbo.StoreID), Comp=np.repeat('Canbo', len(latitude))))\n",
    "p.scatter(x='longitude', y='latitude', radius=2700, fill_color='#83206B', fill_alpha=0.6, source=source)\n",
    "\n",
    "########### HyperStar\n",
    "longitude, latitude = merc_from_arrays(np.array(hyperfamily.latitude.astype(float)), np.array(hyperfamily.longitude.astype(float)))\n",
    "\n",
    "source = ColumnDataSource(data=dict(longitude=longitude, latitude=latitude, StoreID=np.array(hyperfamily['StoreID']), Comp=np.repeat('HyperFamily', len(latitude))))\n",
    "p.scatter(x='longitude', y='latitude', radius=100, fill_color='#FFFF00', fill_alpha=0.9, source=source)\n",
    "\n",
    "source = ColumnDataSource(data=dict(longitude=longitude, latitude=latitude, StoreID=np.array(hyperfamily['StoreID']), Comp=np.repeat('HyperFamily', len(latitude))))\n",
    "p.scatter(x='longitude', y='latitude', radius=3500, fill_color='#FFFF00', fill_alpha=0.6, source=source)\n",
    "\n",
    "\n",
    "########### FOODAREAS\n",
    "p.patches('xs','ys', source=get_geodatasource(gdf),\n",
    "          fill_alpha=0.3, color = 'grey',\n",
    "          line_color=\"black\", line_width=0.2)\n",
    "\n",
    "output_file('Canbo_hyperstar_hyperfamily.html')\n",
    "\n",
    "show(p)"
   ]
  },
  {
   "cell_type": "markdown",
   "id": "63599529-66a1-400a-8927-d97109e48548",
   "metadata": {
    "jp-MarkdownHeadingCollapsed": true,
    "tags": [],
    "pycharm": {
     "name": "#%% md\n"
    }
   },
   "source": [
    "### Zooket Vendors"
   ]
  },
  {
   "cell_type": "code",
   "execution_count": null,
   "id": "906958a5-9da2-463f-9d75-f5deb6d1db05",
   "metadata": {
    "pycharm": {
     "name": "#%%\n"
    }
   },
   "outputs": [],
   "source": [
    "vendors = pd.read_excel('vendor (tehran).xlsx')"
   ]
  },
  {
   "cell_type": "code",
   "execution_count": null,
   "id": "e561d98b-f09f-417b-932c-255f640e0c5d",
   "metadata": {
    "pycharm": {
     "name": "#%%\n"
    }
   },
   "outputs": [],
   "source": [
    "vendors.shape"
   ]
  },
  {
   "cell_type": "code",
   "execution_count": null,
   "id": "841a0a4a-1bbf-45d7-a0f1-636df69b5300",
   "metadata": {
    "pycharm": {
     "name": "#%%\n"
    }
   },
   "outputs": [],
   "source": [
    "import pymssql\n",
    "\n",
    "query = \"\"\"select id as 'VendorID', Title as 'VendorTitle', MarketingAreaName as 'Area', longitude, latitude\n",
    "            from marketing_db.dbo.Vendors K\n",
    "            where K.SuperTypeID=4\n",
    "                and K.ID in {};\"\"\".format(str(tuple(vendors.VendorID)))\n",
    "\n",
    "conn = pymssql.connect(server='warehouse.snappfood.ir:1410', user='zooket', password='?t!ytN9JW39<3[zj', database='marketing_db')\n",
    "V = pd.read_sql(query, conn)\n",
    "conn.close()"
   ]
  },
  {
   "cell_type": "code",
   "execution_count": null,
   "id": "365cf715-e0d8-467a-b68a-56456cbd4430",
   "metadata": {
    "pycharm": {
     "name": "#%%\n"
    }
   },
   "outputs": [],
   "source": [
    "V.head()"
   ]
  },
  {
   "cell_type": "code",
   "execution_count": null,
   "id": "bacf1aeb-83ae-4b82-843e-ee32452652d9",
   "metadata": {
    "pycharm": {
     "name": "#%%\n"
    }
   },
   "outputs": [],
   "source": [
    "from bokeh.tile_providers import OSM, get_provider\n",
    "from bokeh.plotting import figure, output_file, show\n",
    "from bokeh.models import ColumnDataSource\n",
    "\n",
    "tile_provider = get_provider(OSM)\n",
    "\n",
    "p = figure(x_range=(4855769, 7080637), y_range=(1644191, 4744721), sizing_mode='scale_both', tools=\"pan,wheel_zoom,crosshair,reset,save\", active_scroll=\"wheel_zoom\",\n",
    "           tooltips=[(\"VendorID\", \"@VendorID\"),\n",
    "                    (\"VendorTitle\", \"@VendorTitle\"),\n",
    "                    (\"Area\", \"@Area\"),])\n",
    "p.add_tile(tile_provider)\n",
    "\n",
    "########### ZOOKET\n",
    "longitude, latitude = merc_from_arrays(np.array(V.latitude), np.array(V.longitude))\n",
    "\n",
    "source = ColumnDataSource(data=dict(longitude=longitude, latitude=latitude, VendorID=np.array(V['VendorID']), VendorTitle=np.array(V['VendorTitle']), Area=np.array(V['Area'])))\n",
    "p.scatter(x='longitude', y='latitude', radius=200, fill_color='#FFAF00', fill_alpha=0.9, source=source)\n",
    "\n",
    "output_file('Zooket_selected_vendors.html')\n",
    "\n",
    "show(p)"
   ]
  },
  {
   "cell_type": "code",
   "execution_count": null,
   "id": "a16033a0-700c-4bc4-8502-376a7f6ee03a",
   "metadata": {
    "pycharm": {
     "name": "#%%\n"
    }
   },
   "outputs": [],
   "source": []
  },
  {
   "cell_type": "markdown",
   "id": "556095d0-1101-4dcf-b965-61693294b2df",
   "metadata": {
    "pycharm": {
     "name": "#%% md\n"
    }
   },
   "source": [
    "## Chain"
   ]
  },
  {
   "cell_type": "code",
   "execution_count": null,
   "id": "3da278b2-8ec5-49d1-aea9-b336fbbbba1c",
   "metadata": {
    "pycharm": {
     "name": "#%%\n"
    }
   },
   "outputs": [],
   "source": [
    "from shapely import wkt\n",
    "\n",
    "areas = pd.read_excel('x220312_v5.xlsx', sheet_name='Area')\n",
    "\n",
    "areas = areas.pipe(gpd.GeoDataFrame)\n",
    "areas.columns = ['area_name', 'geometry', 'sum_value', 'color']\n",
    "\n",
    "areas['geometry'] = areas['geometry'].apply(wkt.loads)\n",
    "gdf = gpd.GeoDataFrame(areas)\n",
    "\n",
    "gdf.crs = 'EPSG:4326'\n",
    "gdf = gdf.to_crs(epsg=3857)"
   ]
  },
  {
   "cell_type": "code",
   "execution_count": null,
   "id": "31855f90-90e5-4078-8663-e6c2bdde0d20",
   "metadata": {
    "pycharm": {
     "name": "#%%\n"
    }
   },
   "outputs": [],
   "source": [
    "vendors = pd.read_excel('x220312_v5.xlsx', sheet_name='Vendor')"
   ]
  },
  {
   "cell_type": "code",
   "execution_count": null,
   "id": "7c0537f6-fdff-45bf-9ca8-e1567cc02ce8",
   "metadata": {
    "pycharm": {
     "name": "#%%\n"
    }
   },
   "outputs": [],
   "source": [
    "from bokeh.tile_providers import OSM, get_provider\n",
    "from bokeh.plotting import figure, output_file, show\n",
    "from bokeh.models import ColumnDataSource\n",
    "\n",
    "tile_provider = get_provider(OSM)\n",
    "\n",
    "p = figure(x_range=(4855769, 7080637), y_range=(1644191, 4744721), sizing_mode='scale_both', tools=\"pan,wheel_zoom,crosshair,reset,save\", active_scroll=\"wheel_zoom\",\n",
    "           tooltips=[(\"area_name\", \"@area_name\"),\n",
    "                     (\"sum_value\", \"@sum_value\"),\n",
    "                    (\"VendorName\", \"@VendorName\")])\n",
    "p.add_tile(tile_provider)\n",
    "\n",
    "p.patches('xs','ys', source=get_geodatasource(gdf),\n",
    "          fill_alpha=0.5, color = 'color',\n",
    "          line_color=\"black\", line_width=0.2)\n",
    "\n",
    "longitude, latitude = merc_from_arrays(np.array(vendors['Lat'].astype(float)), np.array(vendors['Long'].astype(float)))\n",
    "source = ColumnDataSource(data=dict(longitude=longitude, latitude=latitude,\n",
    "                                    VendorName=np.array(vendors['Flag Name']),\n",
    "                                   color=np.array(vendors['color'])))\n",
    "\n",
    "p.scatter(x='longitude', y='latitude', radius=200, fill_alpha=0.9, fill_color='color', source=source)\n",
    "# p.scatter(x='longitude', y='latitude', radius=500, fill_alpha=0.3,fill_color='black', source=source)\n",
    "\n",
    "output_file('Chain_map.html')\n",
    "\n",
    "show(p)"
   ]
  },
  {
   "cell_type": "code",
   "execution_count": null,
   "id": "e1546900-1ef9-4d64-980e-07c706b9ffae",
   "metadata": {
    "pycharm": {
     "name": "#%%\n"
    }
   },
   "outputs": [],
   "source": [
    "vendors.head()"
   ]
  },
  {
   "cell_type": "code",
   "execution_count": null,
   "id": "9c94afe3-e291-48a0-b69e-e86ecddb44f8",
   "metadata": {
    "pycharm": {
     "name": "#%%\n"
    }
   },
   "outputs": [],
   "source": []
  }
 ],
 "metadata": {
  "kernelspec": {
   "display_name": "Python 3 (ipykernel)",
   "language": "python",
   "name": "python3"
  },
  "language_info": {
   "codemirror_mode": {
    "name": "ipython",
    "version": 3
   },
   "file_extension": ".py",
   "mimetype": "text/x-python",
   "name": "python",
   "nbconvert_exporter": "python",
   "pygments_lexer": "ipython3",
   "version": "3.9.7"
  }
 },
 "nbformat": 4,
 "nbformat_minor": 5
}