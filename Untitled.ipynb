{
 "cells": [
  {
   "cell_type": "code",
   "execution_count": null,
   "id": "fd7d6f20-3634-4218-ac5f-b1722bef9b06",
   "metadata": {
    "pycharm": {
     "name": "#%%\n"
    }
   },
   "outputs": [],
   "source": [
    "import pandas as pd\n",
    "import geopandas as gpd\n",
    "import numpy as np"
   ]
  },
  {
   "cell_type": "code",
   "execution_count": null,
   "id": "cc064626-61cd-4032-9ce5-c35f8aac4a7d",
   "metadata": {
    "pycharm": {
     "name": "#%%\n"
    }
   },
   "outputs": [],
   "source": [
    "from bokeh.tile_providers import OSM, get_provider\n",
    "from bokeh.plotting import figure, output_file, show\n",
    "from bokeh.models import ColumnDataSource\n",
    "from bokeh.models import GeoJSONDataSource"
   ]
  },
  {
   "cell_type": "code",
   "execution_count": null,
   "id": "9e4351f5-ffb4-45c6-9244-3ef13ce080e3",
   "metadata": {
    "pycharm": {
     "name": "#%%\n"
    }
   },
   "outputs": [],
   "source": [
    "def merc_from_arrays(lats, lons):\n",
    "    r_major = 6378137.000\n",
    "    x = r_major * np.radians(lons)\n",
    "    scale = x/lons\n",
    "    y = 180.0/np.pi * np.log(np.tan(np.pi/4.0 + lats * (np.pi/180.0)/2.0)) * scale\n",
    "    return (x, y)"
   ]
  },
  {
   "cell_type": "code",
   "execution_count": null,
   "id": "d0c17586-237b-40e6-a855-e6f1aa9f84f0",
   "metadata": {
    "pycharm": {
     "name": "#%%\n"
    }
   },
   "outputs": [],
   "source": [
    "import json\n",
    "\n",
    "def get_geodatasource(df):\n",
    "    \"\"\"Get getjsondatasource from geopandas object\"\"\"\n",
    "    json_data = json.dumps(json.loads(df.to_json()))\n",
    "    return GeoJSONDataSource(geojson = json_data)"
   ]
  },
  {
   "cell_type": "code",
   "execution_count": null,
   "id": "bddb812f-79c7-47a0-995a-36f7cfdb1c45",
   "metadata": {
    "pycharm": {
     "name": "#%%\n"
    }
   },
   "outputs": [],
   "source": [
    "### READ Area Polygon\n",
    "from shapely import wkt\n",
    "\n",
    "areas = pd.read_excel('MarketingAreas.xlsx')\n",
    "\n",
    "areas = areas.pipe(gpd.GeoDataFrame)\n",
    "areas.columns = ['City', 'AreaID', 'AreaTitle', 'AreaTitle_English', 'SuperArea', 'geometry']\n",
    "\n",
    "areas['geometry'] = areas['geometry'].apply(wkt.loads)\n",
    "gdf = gpd.GeoDataFrame(areas)\n",
    "\n",
    "gdf.crs = 'EPSG:4326'\n",
    "gdf = gdf.to_crs(epsg=3857)"
   ]
  },
  {
   "cell_type": "code",
   "execution_count": null,
   "id": "23ed8c80-9c2d-438a-a3f2-327947a36d0e",
   "metadata": {
    "pycharm": {
     "name": "#%%\n"
    }
   },
   "outputs": [],
   "source": [
    "### READ FILE HERE. COLUMN NAMES: StoreID, Lat, Long\n",
    "\n",
    "df = pd.read_excel('sample.xlsx')"
   ]
  },
  {
   "cell_type": "code",
   "execution_count": null,
   "id": "73549ccc-5677-4d08-9345-9a37ecdc98db",
   "metadata": {
    "pycharm": {
     "name": "#%%\n"
    }
   },
   "outputs": [],
   "source": [
    "tile_provider = get_provider(OSM)\n",
    "\n",
    "p = figure(x_range=(4855769, 7080637), y_range=(1644191, 4744721), sizing_mode='scale_both', \n",
    "           tools=\"pan,wheel_zoom,crosshair,reset,save\", active_scroll=\"wheel_zoom\",\n",
    "           tooltips=[('StoreID', \"@StoreID\"),\n",
    "                    ('StoreID', \"@new\"),\n",
    "                    ('StoreID', \"@StoreID\")])\n",
    "\n",
    "p.add_tile(tile_provider)"
   ]
  },
  {
   "cell_type": "code",
   "execution_count": null,
   "id": "abe752c6-5b4d-4537-8b8a-f23642a082cb",
   "metadata": {
    "pycharm": {
     "name": "#%%\n"
    }
   },
   "outputs": [],
   "source": [
    "longitude, latitude = merc_from_arrays(np.array(old['Lat'].astype(float)), np.array(old['Long'].astype(float)))\n",
    "\n",
    "source = ColumnDataSource(data=dict(longitude=longitude, latitude=latitude, StoreID=np.array(old['StoreID'])))\n",
    "p.scatter(x='longitude', y='latitude', radius=50, fill_alpha=0.7,\n",
    "          fill_color='Blue', source=source)\n",
    "\n",
    "source = ColumnDataSource(data=dict(longitude=longitude, latitude=latitude, StoreID=np.array(old['StoreID'])))\n",
    "p.scatter(x='longitude', y='latitude', radius=3500, fill_alpha=0.3,\n",
    "          fill_color='Blue', source=source)"
   ]
  },
  {
   "cell_type": "code",
   "execution_count": null,
   "id": "9e0bde02-455e-43b4-896b-276067e0b9a0",
   "metadata": {
    "pycharm": {
     "name": "#%%\n"
    }
   },
   "outputs": [],
   "source": [
    "longitude, latitude = merc_from_arrays(np.array(df['Lat'].astype(float)), np.array(df['Long'].astype(float)))\n",
    "\n",
    "source = ColumnDataSource(data=dict(longitude=longitude, latitude=latitude, StoreID=np.array(df['StoreID'])))\n",
    "p.scatter(x='longitude', y='latitude', radius=50, fill_alpha=0.7,\n",
    "          fill_color='Blue', source=source)\n",
    "\n",
    "source = ColumnDataSource(data=dict(longitude=longitude, latitude=latitude, StoreID=np.array(df['StoreID'])))\n",
    "p.scatter(x='longitude', y='latitude', radius=3500, fill_alpha=0.3,\n",
    "          fill_color='Blue', source=source)"
   ]
  },
  {
   "cell_type": "code",
   "execution_count": null,
   "id": "fb525304-0f76-4b45-b06a-5aa7b9d91ae0",
   "metadata": {
    "pycharm": {
     "name": "#%%\n"
    }
   },
   "outputs": [],
   "source": [
    "########### FOODAREAS\n",
    "# p.patches('xs','ys', source=get_geodatasource(gdf),\n",
    "#           fill_alpha=0.2, color = 'grey',\n",
    "#           line_color=\"black\", line_width=0.2)"
   ]
  },
  {
   "cell_type": "code",
   "execution_count": null,
   "id": "4bb674f5-b6f3-4592-93ce-787d7339164e",
   "metadata": {
    "pycharm": {
     "name": "#%%\n"
    }
   },
   "outputs": [],
   "source": [
    "output_file('lat_long.html')\n",
    "\n",
    "show(p)"
   ]
  },
  {
   "cell_type": "code",
   "execution_count": null,
   "id": "2a923426-2d07-46bf-bf81-e58ded42c22f",
   "metadata": {
    "pycharm": {
     "name": "#%%\n"
    }
   },
   "outputs": [],
   "source": []
  },
  {
   "cell_type": "code",
   "execution_count": null,
   "id": "2d49511d-9931-4615-9b84-b8cff20adf18",
   "metadata": {
    "pycharm": {
     "name": "#%%\n"
    }
   },
   "outputs": [],
   "source": []
  },
  {
   "cell_type": "code",
   "execution_count": null,
   "id": "91dec985-3500-4720-9406-374a307d64d5",
   "metadata": {
    "pycharm": {
     "name": "#%%\n"
    }
   },
   "outputs": [],
   "source": []
  }
 ],
 "metadata": {
  "kernelspec": {
   "display_name": "Python 3 (ipykernel)",
   "language": "python",
   "name": "python3"
  },
  "language_info": {
   "codemirror_mode": {
    "name": "ipython",
    "version": 3
   },
   "file_extension": ".py",
   "mimetype": "text/x-python",
   "name": "python",
   "nbconvert_exporter": "python",
   "pygments_lexer": "ipython3",
   "version": "3.9.7"
  }
 },
 "nbformat": 4,
 "nbformat_minor": 5
}