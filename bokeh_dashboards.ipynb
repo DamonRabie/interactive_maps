{
 "cells": [
  {
   "cell_type": "markdown",
   "source": [
    "# Info\n",
    "\n",
    "This notebook consists of methods I've used to parse and visualize different polygons and coordinates. Parameters need to be set accordingly."
   ],
   "metadata": {
    "collapsed": false
   }
  },
  {
   "cell_type": "markdown",
   "source": [
    "# Imports"
   ],
   "metadata": {
    "collapsed": false
   }
  },
  {
   "cell_type": "code",
   "execution_count": null,
   "id": "fd7d6f20-3634-4218-ac5f-b1722bef9b06",
   "metadata": {
    "pycharm": {
     "name": "#%%\n"
    }
   },
   "outputs": [],
   "source": [
    "import pandas as pd\n",
    "import geopandas as gpd\n",
    "import numpy as np"
   ]
  },
  {
   "cell_type": "code",
   "execution_count": null,
   "id": "cc064626-61cd-4032-9ce5-c35f8aac4a7d",
   "metadata": {
    "pycharm": {
     "name": "#%%\n"
    }
   },
   "outputs": [],
   "source": [
    "from bokeh.tile_providers import OSM, get_provider\n",
    "from bokeh.plotting import figure, output_file, show\n",
    "from bokeh.models import ColumnDataSource\n",
    "from bokeh.models import GeoJSONDataSource"
   ]
  },
  {
   "cell_type": "code",
   "execution_count": null,
   "outputs": [],
   "source": [
    "from shapely.geometry import Point\n",
    "from shapely import wkt"
   ],
   "metadata": {
    "collapsed": false
   }
  },
  {
   "cell_type": "markdown",
   "source": [
    "# Parse data functions"
   ],
   "metadata": {
    "collapsed": false
   }
  },
  {
   "cell_type": "code",
   "execution_count": 1,
   "outputs": [],
   "source": [
    "def load_polygon_geojson(file_path: str):\n",
    "    return gpd.read_file(file_path)\n",
    "\n",
    "def load_polygon_excel(file_path: str, crs: str='EPSG:4326', epsg: int=3857):\n",
    "    \"\"\"\n",
    "\n",
    "    :param file_path: path to the excel file that has polygon coordinates\n",
    "    :param crs: needs to be set based on use case\n",
    "    :param epsg: needs to be set based on use case\n",
    "    :return: geopandas dataframe with polygons in 'geometry' column\n",
    "    \"\"\"\n",
    "    polygon_df = pd.read_excel(file_path)\n",
    "    polygon_df = polygon_df.pipe(gpd.GeoDataFrame)\n",
    "\n",
    "    polygon_df['geometry'] = polygon_df['geometry'].apply(wkt.loads)\n",
    "    gdf = gpd.GeoDataFrame(polygon_df)\n",
    "    gdf.crs = crs\n",
    "    gdf = gdf.to_crs(epsg=epsg)\n",
    "\n",
    "    return gdf\n",
    "\n",
    "\n",
    "def load_polygon_wkt_csv(file_path: str, crs: str='EPSG:4326', epsg: int=3857):\n",
    "    def tryParseWKT(x):\n",
    "        try:\n",
    "            return wkt.loads(x)\n",
    "        except:\n",
    "            return None\n",
    "\n",
    "    polygon_df = pd.read_csv(file_path)\n",
    "\n",
    "    polygon_df['geometry'] = polygon_df['geometry'].apply(lambda x: tryParseWKT(x))\n",
    "    gdf = gpd.GeoDataFrame(polygon_df[polygon_df['geometry'].notna()], crs=crs)\n",
    "\n",
    "    return gdf.to_crs(epsg=epsg)\n"
   ],
   "metadata": {
    "collapsed": false,
    "ExecuteTime": {
     "end_time": "2023-06-26T18:10:22.582408406Z",
     "start_time": "2023-06-26T18:10:22.581347748Z"
    }
   }
  },
  {
   "cell_type": "code",
   "execution_count": null,
   "outputs": [],
   "source": [
    "def to_decimal(S):\n",
    "    \"\"\"\n",
    "    convert degrees to lat or long\n",
    "    :param S: input str\n",
    "    :return: numpy array of parsed coordinates\n",
    "    \"\"\"\n",
    "    S = str(S)\n",
    "    try:\n",
    "        if '°' not in S:\n",
    "            return float(S)\n",
    "        S = S.split('\"')[0]\n",
    "        S = float(S.split('°')[0]) + float(S.split('°')[1].split(\"'\")[0])/60 + float(S.split('°')[1].split(\"'\")[1])/3600\n",
    "        return S\n",
    "    except:\n",
    "        return np.nan\n",
    "\n",
    "df = pd.read_excel(\"sample.xlsx\")\n",
    "\n",
    "df['Lat'] = df['t'].apply(lambda x: to_decimal(x))\n",
    "df['Long'] = df['g'].transform(lambda x: to_decimal(x))"
   ],
   "metadata": {
    "collapsed": false
   }
  },
  {
   "cell_type": "markdown",
   "source": [
    "# Map functions"
   ],
   "metadata": {
    "collapsed": false
   }
  },
  {
   "cell_type": "code",
   "execution_count": 2,
   "outputs": [],
   "source": [
    "def in_polygon(lat, lng, gdf):\n",
    "    \"\"\"\n",
    "    check if a point is inside a polygon.\n",
    "    return the first match.\n",
    "    the gdf is geopandas dataframe.\n",
    "    \"\"\"\n",
    "    point = Point(lng, lat)\n",
    "    for i, row in gdf.iterrows():\n",
    "        polygon = row['area_geometry']\n",
    "        if point.within(polygon):\n",
    "            return row"
   ],
   "metadata": {
    "collapsed": false,
    "ExecuteTime": {
     "end_time": "2023-06-26T18:10:22.626265179Z",
     "start_time": "2023-06-26T18:10:22.584133824Z"
    }
   }
  },
  {
   "cell_type": "code",
   "execution_count": null,
   "id": "9e4351f5-ffb4-45c6-9244-3ef13ce080e3",
   "metadata": {
    "pycharm": {
     "name": "#%%\n"
    }
   },
   "outputs": [],
   "source": [
    "def merc_from_arrays(lats, lons):\n",
    "    r_major = 6378137.000\n",
    "    x = r_major * np.radians(lons)\n",
    "    scale = x/lons\n",
    "    y = 180.0/np.pi * np.log(np.tan(np.pi/4.0 + lats * (np.pi/180.0)/2.0)) * scale\n",
    "    return (x, y)"
   ]
  },
  {
   "cell_type": "code",
   "execution_count": null,
   "id": "d0c17586-237b-40e6-a855-e6f1aa9f84f0",
   "metadata": {
    "pycharm": {
     "name": "#%%\n"
    }
   },
   "outputs": [],
   "source": [
    "import json\n",
    "\n",
    "def get_geodatasource(df):\n",
    "    \"\"\"Get getjsondatasource from geopandas object\"\"\"\n",
    "    json_data = json.dumps(json.loads(df.to_json()))\n",
    "    return GeoJSONDataSource(geojson = json_data)"
   ]
  },
  {
   "cell_type": "markdown",
   "source": [
    "# Generate maps"
   ],
   "metadata": {
    "collapsed": false
   }
  },
  {
   "cell_type": "code",
   "execution_count": null,
   "id": "bddb812f-79c7-47a0-995a-36f7cfdb1c45",
   "metadata": {
    "pycharm": {
     "name": "#%%\n"
    }
   },
   "outputs": [],
   "source": [
    "### READ Area Polygon\n",
    "gdf = load_polygon_excel('areas.xlsx')"
   ]
  },
  {
   "cell_type": "code",
   "execution_count": null,
   "id": "23ed8c80-9c2d-438a-a3f2-327947a36d0e",
   "metadata": {
    "pycharm": {
     "name": "#%%\n"
    }
   },
   "outputs": [],
   "source": [
    "### READ FILE HERE. COLUMN NAMES: StoreID, Lat, Long\n",
    "df = pd.read_excel('sample.xlsx')"
   ]
  },
  {
   "cell_type": "code",
   "execution_count": null,
   "id": "73549ccc-5677-4d08-9345-9a37ecdc98db",
   "metadata": {
    "pycharm": {
     "name": "#%%\n"
    }
   },
   "outputs": [],
   "source": [
    "tile_provider = get_provider(OSM)\n",
    "\n",
    "p = figure(x_range=(4855769, 7080637), y_range=(1644191, 4744721), sizing_mode='scale_both', \n",
    "           tools=\"pan,wheel_zoom,crosshair,reset,save\", active_scroll=\"wheel_zoom\",\n",
    "           tooltips=[('StoreID', \"@StoreID\"),\n",
    "                    ('StoreID', \"@new\"),\n",
    "                    ('StoreID', \"@StoreID\")])\n",
    "\n",
    "p.add_tile(tile_provider)"
   ]
  },
  {
   "cell_type": "code",
   "execution_count": null,
   "id": "abe752c6-5b4d-4537-8b8a-f23642a082cb",
   "metadata": {
    "pycharm": {
     "name": "#%%\n"
    }
   },
   "outputs": [],
   "source": [
    "longitude, latitude = merc_from_arrays(np.array(df['Lat'].astype(float)), np.array(df['Long'].astype(float)))\n",
    "\n",
    "source = ColumnDataSource(data=dict(longitude=longitude, latitude=latitude, StoreID=np.array(df['StoreID'])))\n",
    "p.scatter(x='longitude', y='latitude', radius=50, fill_alpha=0.7,\n",
    "          fill_color='Blue', source=source)\n",
    "\n",
    "source = ColumnDataSource(data=dict(longitude=longitude, latitude=latitude, StoreID=np.array(df['StoreID'])))\n",
    "p.scatter(x='longitude', y='latitude', radius=3500, fill_alpha=0.3,\n",
    "          fill_color='Blue', source=source)"
   ]
  },
  {
   "cell_type": "code",
   "execution_count": null,
   "id": "9e0bde02-455e-43b4-896b-276067e0b9a0",
   "metadata": {
    "pycharm": {
     "name": "#%%\n"
    }
   },
   "outputs": [],
   "source": [
    "########### Add areas\n",
    "p.patches('xs','ys', source=get_geodatasource(gdf),\n",
    "          fill_alpha=0.8, color = 'grey',\n",
    "          line_color=\"black\", line_width=0.2)"
   ]
  },
  {
   "cell_type": "code",
   "execution_count": null,
   "id": "4bb674f5-b6f3-4592-93ce-787d7339164e",
   "metadata": {
    "pycharm": {
     "name": "#%%\n"
    }
   },
   "outputs": [],
   "source": [
    "output_file('lat_long.html')\n",
    "\n",
    "show(p)"
   ]
  },
  {
   "cell_type": "code",
   "execution_count": null,
   "id": "2a923426-2d07-46bf-bf81-e58ded42c22f",
   "metadata": {
    "pycharm": {
     "name": "#%%\n"
    }
   },
   "outputs": [],
   "source": []
  },
  {
   "cell_type": "code",
   "execution_count": null,
   "id": "2d49511d-9931-4615-9b84-b8cff20adf18",
   "metadata": {
    "pycharm": {
     "name": "#%%\n"
    }
   },
   "outputs": [],
   "source": []
  },
  {
   "cell_type": "code",
   "execution_count": null,
   "id": "91dec985-3500-4720-9406-374a307d64d5",
   "metadata": {
    "pycharm": {
     "name": "#%%\n"
    }
   },
   "outputs": [],
   "source": []
  }
 ],
 "metadata": {
  "kernelspec": {
   "display_name": "Python 3 (ipykernel)",
   "language": "python",
   "name": "python3"
  },
  "language_info": {
   "codemirror_mode": {
    "name": "ipython",
    "version": 3
   },
   "file_extension": ".py",
   "mimetype": "text/x-python",
   "name": "python",
   "nbconvert_exporter": "python",
   "pygments_lexer": "ipython3",
   "version": "3.9.7"
  }
 },
 "nbformat": 4,
 "nbformat_minor": 5
}
